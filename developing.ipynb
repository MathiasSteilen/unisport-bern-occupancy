{
 "cells": [
  {
   "cell_type": "code",
   "execution_count": 1,
   "metadata": {},
   "outputs": [],
   "source": [
    "import pandas as pd\n",
    "import polars as pl\n",
    "import polars.selectors as cs\n",
    "import numpy as np\n",
    "import plotnine as pn\n",
    "from mizani.formatters import comma_format, custom_format, currency_format, percent_format\n",
    "from IPython.display import clear_output, display\n",
    "import os\n",
    "from skimpy import clean_columns\n",
    "\n",
    "# Actually needed for script\n",
    "import requests\n",
    "from bs4 import BeautifulSoup\n",
    "import datetime\n",
    "\n",
    "\n",
    "jama_colour = [\n",
    "    \"#374e55\",\n",
    "    \"#df8f44\",\n",
    "    \"#00a1d5\",\n",
    "    \"#b24745\",\n",
    "    \"#79af97\",\n",
    "]\n",
    "\n",
    "pd.set_option(\"display.max.columns\", 500)\n",
    "pd.set_option(\"display.max.columns\", 500)\n",
    "background_colour = \"#F2F2F2\"\n",
    "pn.theme_set(\n",
    "    pn.theme_classic()\n",
    "    + pn.theme(\n",
    "        figure_size=[7, 7/1.618],\n",
    "        text=pn.element_text(family=\"monospace\"),\n",
    "        plot_background=pn.element_rect(\n",
    "            fill=background_colour, colour=background_colour\n",
    "        ),\n",
    "        panel_background=pn.element_rect(\n",
    "            fill=background_colour, colour=background_colour\n",
    "        ),\n",
    "        legend_background=pn.element_rect(\n",
    "            fill=background_colour, colour=background_colour\n",
    "        ),\n",
    "    )\n",
    ")\n",
    "\n",
    "\n",
    "%load_ext blackcellmagic\n",
    "%matplotlib inline"
   ]
  },
  {
   "cell_type": "code",
   "execution_count": 15,
   "metadata": {},
   "outputs": [],
   "source": [
    "url = \"https://www.unibe.ch/universitaet/campus__und__infrastruktur/universitaetssport/sportangebot/fitnessraeume/readhtml2?decoding=utf-8&url=https://www.zssw.unibe.ch/usp/zms/templates/crowdmonitoring/_display-spaces-zssw.php\"\n",
    "\n",
    "try:\n",
    "    response = requests.get(url, timeout=100)  # Timeout set to 100 seconds\n",
    "    response.raise_for_status()  # Raise an exception for HTTP errors\n",
    "\n",
    "    # Parse the HTML\n",
    "    soup = BeautifulSoup(response.text, \"html.parser\")\n",
    "\n",
    "    # Find the element with class 'go-stop-display_footer'\n",
    "    footer_div = soup.find(\"div\", class_=\"go-stop-display_footer\")\n",
    "\n",
    "    # Extract the text content\n",
    "    text_content = footer_div.get_text(strip=True)\n",
    "\n",
    "    # Get the occupancy numbers\n",
    "    occupancy_numbers = [x.strip() for x in text_content.split(\"von\")]\n",
    "\n",
    "    # Concatenate old data with the newly observed line\n",
    "    df_out = pd.concat(\n",
    "        [\n",
    "            pd.read_csv(\"data.csv\", parse_dates=[\"datetime\"]),\n",
    "            pd.DataFrame(\n",
    "                [\n",
    "                    {\n",
    "                        \"datetime\": pd.Timestamp(datetime.datetime.today())\n",
    "                        .tz_localize(tz=\"UTC\")\n",
    "                        .tz_convert(\"Europe/Zurich\"),\n",
    "                        \"actual_occupancy\": occupancy_numbers[0],\n",
    "                        \"max_occupancy\": occupancy_numbers[1],\n",
    "                    }\n",
    "                ]\n",
    "            ),\n",
    "        ]\n",
    "    )\n",
    "\n",
    "    # Write the data to a CSV file\n",
    "    df_out.to_csv(\"data.csv\", index=False)\n",
    "\n",
    "except requests.exceptions.RequestException as e:\n",
    "    print(\"Error:\", e)"
   ]
  },
  {
   "cell_type": "code",
   "execution_count": 12,
   "metadata": {},
   "outputs": [
    {
     "data": {
      "text/plain": [
       "Timestamp('2024-03-01 23:18:53.161813+0100', tz='Europe/Zurich')"
      ]
     },
     "execution_count": 12,
     "metadata": {},
     "output_type": "execute_result"
    }
   ],
   "source": []
  }
 ],
 "metadata": {
  "kernelspec": {
   "display_name": "general",
   "language": "python",
   "name": "python3"
  },
  "language_info": {
   "codemirror_mode": {
    "name": "ipython",
    "version": 3
   },
   "file_extension": ".py",
   "mimetype": "text/x-python",
   "name": "python",
   "nbconvert_exporter": "python",
   "pygments_lexer": "ipython3",
   "version": "3.11.5"
  }
 },
 "nbformat": 4,
 "nbformat_minor": 2
}
